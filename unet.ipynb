{
  "nbformat": 4,
  "nbformat_minor": 0,
  "metadata": {
    "colab": {
      "name": "Untitled2.ipynb",
      "provenance": [],
      "collapsed_sections": []
    },
    "kernelspec": {
      "display_name": "Python 3",
      "name": "python3"
    },
    "accelerator": "GPU"
  },
  "cells": [
    {
      "cell_type": "markdown",
      "metadata": {
        "id": "vYHZzeOpGa3n"
      },
      "source": [
        "prepare data\r\n",
        "\r\n",
        "\r\n",
        "\r\n",
        "\r\n",
        "\r\n"
      ]
    },
    {
      "cell_type": "code",
      "metadata": {
        "colab": {
          "base_uri": "https://localhost:8080/",
          "height": 102
        },
        "id": "d6E_60uPAfQ-",
        "outputId": "40eb8c24-c625-493e-e142-5863192df236"
      },
      "source": [
        "import gdown\r\n",
        "url=\"https://drive.google.com/u/1/uc?id=1s9kUzhHCF3rbmXJnR3whEtgINSBe6Nbi&export=download\"\r\n",
        "output=\"final.rar\"\r\n",
        "gdown.download(url,output,quiet=False)"
      ],
      "execution_count": 1,
      "outputs": [
        {
          "output_type": "stream",
          "text": [
            "Downloading...\n",
            "From: https://drive.google.com/u/1/uc?id=1s9kUzhHCF3rbmXJnR3whEtgINSBe6Nbi&export=download\n",
            "To: /content/final.rar\n",
            "17.8MB [00:00, 39.8MB/s]\n"
          ],
          "name": "stderr"
        },
        {
          "output_type": "execute_result",
          "data": {
            "application/vnd.google.colaboratory.intrinsic+json": {
              "type": "string"
            },
            "text/plain": [
              "'final.rar'"
            ]
          },
          "metadata": {
            "tags": []
          },
          "execution_count": 1
        }
      ]
    },
    {
      "cell_type": "code",
      "metadata": {
        "colab": {
          "base_uri": "https://localhost:8080/"
        },
        "id": "HhHP3ei65vOQ",
        "outputId": "f8b34648-2058-46d5-9782-c3962e48b95c"
      },
      "source": [
        "!pip install rarfile"
      ],
      "execution_count": 2,
      "outputs": [
        {
          "output_type": "stream",
          "text": [
            "Collecting rarfile\n",
            "  Downloading https://files.pythonhosted.org/packages/95/f4/c92fab227c7457e3b76a4096ccb655ded9deac869849cb03afbe55dfdc1e/rarfile-4.0-py3-none-any.whl\n",
            "Installing collected packages: rarfile\n",
            "Successfully installed rarfile-4.0\n"
          ],
          "name": "stdout"
        }
      ]
    },
    {
      "cell_type": "code",
      "metadata": {
        "colab": {
          "base_uri": "https://localhost:8080/"
        },
        "id": "zv_vMQfRBRwV",
        "outputId": "c1739af0-5504-48da-c2e1-971d5e64412e"
      },
      "source": [
        "import os\n",
        "import rarfile\n",
        " \n",
        "rar = rarfile.RarFile('final.rar') \n",
        "print (rar.namelist())\n",
        "rar.extractall()\n",
        "rar.close()"
      ],
      "execution_count": 3,
      "outputs": [
        {
          "output_type": "stream",
          "text": [
            "['image final project/0/CT/0.jpg', 'image final project/0/CT/1.jpg', 'image final project/0/CT/10.jpg', 'image final project/0/CT/11.jpg', 'image final project/0/CT/12.jpg', 'image final project/0/CT/13.jpg', 'image final project/0/CT/14.jpg', 'image final project/0/CT/15.jpg', 'image final project/0/CT/16.jpg', 'image final project/0/CT/17.jpg', 'image final project/0/CT/18.jpg', 'image final project/0/CT/19.jpg', 'image final project/0/CT/2.jpg', 'image final project/0/CT/3.jpg', 'image final project/0/CT/4.jpg', 'image final project/0/CT/5.jpg', 'image final project/0/CT/6.jpg', 'image final project/0/CT/7.jpg', 'image final project/0/CT/8.jpg', 'image final project/0/CT/9.jpg', 'image final project/0/FT/0.jpg', 'image final project/0/FT/1.jpg', 'image final project/0/FT/10.jpg', 'image final project/0/FT/11.jpg', 'image final project/0/FT/12.jpg', 'image final project/0/FT/13.jpg', 'image final project/0/FT/14.jpg', 'image final project/0/FT/15.jpg', 'image final project/0/FT/16.jpg', 'image final project/0/FT/17.jpg', 'image final project/0/FT/18.jpg', 'image final project/0/FT/19.jpg', 'image final project/0/FT/2.jpg', 'image final project/0/FT/3.jpg', 'image final project/0/FT/4.jpg', 'image final project/0/FT/5.jpg', 'image final project/0/FT/6.jpg', 'image final project/0/FT/7.jpg', 'image final project/0/FT/8.jpg', 'image final project/0/FT/9.jpg', 'image final project/0/MN/0.jpg', 'image final project/0/MN/1.jpg', 'image final project/0/MN/10.jpg', 'image final project/0/MN/11.jpg', 'image final project/0/MN/12.jpg', 'image final project/0/MN/13.jpg', 'image final project/0/MN/14.jpg', 'image final project/0/MN/15.jpg', 'image final project/0/MN/16.jpg', 'image final project/0/MN/17.jpg', 'image final project/0/MN/18.jpg', 'image final project/0/MN/19.jpg', 'image final project/0/MN/2.jpg', 'image final project/0/MN/3.jpg', 'image final project/0/MN/4.jpg', 'image final project/0/MN/5.jpg', 'image final project/0/MN/6.jpg', 'image final project/0/MN/7.jpg', 'image final project/0/MN/8.jpg', 'image final project/0/MN/9.jpg', 'image final project/0/T1/0.jpg', 'image final project/0/T1/1.jpg', 'image final project/0/T1/10.jpg', 'image final project/0/T1/11.jpg', 'image final project/0/T1/12.jpg', 'image final project/0/T1/13.jpg', 'image final project/0/T1/14.jpg', 'image final project/0/T1/15.jpg', 'image final project/0/T1/16.jpg', 'image final project/0/T1/17.jpg', 'image final project/0/T1/18.jpg', 'image final project/0/T1/19.jpg', 'image final project/0/T1/2.jpg', 'image final project/0/T1/3.jpg', 'image final project/0/T1/4.jpg', 'image final project/0/T1/5.jpg', 'image final project/0/T1/6.jpg', 'image final project/0/T1/7.jpg', 'image final project/0/T1/8.jpg', 'image final project/0/T1/9.jpg', 'image final project/0/T2/0.jpg', 'image final project/0/T2/1.jpg', 'image final project/0/T2/10.jpg', 'image final project/0/T2/11.jpg', 'image final project/0/T2/12.jpg', 'image final project/0/T2/13.jpg', 'image final project/0/T2/14.jpg', 'image final project/0/T2/15.jpg', 'image final project/0/T2/16.jpg', 'image final project/0/T2/17.jpg', 'image final project/0/T2/18.jpg', 'image final project/0/T2/19.jpg', 'image final project/0/T2/2.jpg', 'image final project/0/T2/3.jpg', 'image final project/0/T2/4.jpg', 'image final project/0/T2/5.jpg', 'image final project/0/T2/6.jpg', 'image final project/0/T2/7.jpg', 'image final project/0/T2/8.jpg', 'image final project/0/T2/9.jpg', 'image final project/1/CT/0.jpg', 'image final project/1/CT/1.jpg', 'image final project/1/CT/10.jpg', 'image final project/1/CT/11.jpg', 'image final project/1/CT/12.jpg', 'image final project/1/CT/13.jpg', 'image final project/1/CT/14.jpg', 'image final project/1/CT/15.jpg', 'image final project/1/CT/16.jpg', 'image final project/1/CT/17.jpg', 'image final project/1/CT/18.jpg', 'image final project/1/CT/19.jpg', 'image final project/1/CT/2.jpg', 'image final project/1/CT/20.jpg', 'image final project/1/CT/3.jpg', 'image final project/1/CT/4.jpg', 'image final project/1/CT/5.jpg', 'image final project/1/CT/6.jpg', 'image final project/1/CT/7.jpg', 'image final project/1/CT/8.jpg', 'image final project/1/CT/9.jpg', 'image final project/1/FT/0.jpg', 'image final project/1/FT/1.jpg', 'image final project/1/FT/10.jpg', 'image final project/1/FT/11.jpg', 'image final project/1/FT/12.jpg', 'image final project/1/FT/13.jpg', 'image final project/1/FT/14.jpg', 'image final project/1/FT/15.jpg', 'image final project/1/FT/16.jpg', 'image final project/1/FT/17.jpg', 'image final project/1/FT/18.jpg', 'image final project/1/FT/19.jpg', 'image final project/1/FT/2.jpg', 'image final project/1/FT/20.jpg', 'image final project/1/FT/3.jpg', 'image final project/1/FT/4.jpg', 'image final project/1/FT/5.jpg', 'image final project/1/FT/6.jpg', 'image final project/1/FT/7.jpg', 'image final project/1/FT/8.jpg', 'image final project/1/FT/9.jpg', 'image final project/1/MN/0.jpg', 'image final project/1/MN/1.jpg', 'image final project/1/MN/10.jpg', 'image final project/1/MN/11.jpg', 'image final project/1/MN/12.jpg', 'image final project/1/MN/13.jpg', 'image final project/1/MN/14.jpg', 'image final project/1/MN/15.jpg', 'image final project/1/MN/16.jpg', 'image final project/1/MN/17.jpg', 'image final project/1/MN/18.jpg', 'image final project/1/MN/19.jpg', 'image final project/1/MN/2.jpg', 'image final project/1/MN/20.jpg', 'image final project/1/MN/3.jpg', 'image final project/1/MN/4.jpg', 'image final project/1/MN/5.jpg', 'image final project/1/MN/6.jpg', 'image final project/1/MN/7.jpg', 'image final project/1/MN/8.jpg', 'image final project/1/MN/9.jpg', 'image final project/1/T1/0.jpg', 'image final project/1/T1/1.jpg', 'image final project/1/T1/10.jpg', 'image final project/1/T1/11.jpg', 'image final project/1/T1/12.jpg', 'image final project/1/T1/13.jpg', 'image final project/1/T1/14.jpg', 'image final project/1/T1/15.jpg', 'image final project/1/T1/16.jpg', 'image final project/1/T1/17.jpg', 'image final project/1/T1/18.jpg', 'image final project/1/T1/19.jpg', 'image final project/1/T1/2.jpg', 'image final project/1/T1/20.jpg', 'image final project/1/T1/3.jpg', 'image final project/1/T1/4.jpg', 'image final project/1/T1/5.jpg', 'image final project/1/T1/6.jpg', 'image final project/1/T1/7.jpg', 'image final project/1/T1/8.jpg', 'image final project/1/T1/9.jpg', 'image final project/1/T2/0.jpg', 'image final project/1/T2/1.jpg', 'image final project/1/T2/10.jpg', 'image final project/1/T2/11.jpg', 'image final project/1/T2/12.jpg', 'image final project/1/T2/13.jpg', 'image final project/1/T2/14.jpg', 'image final project/1/T2/15.jpg', 'image final project/1/T2/16.jpg', 'image final project/1/T2/17.jpg', 'image final project/1/T2/18.jpg', 'image final project/1/T2/19.jpg', 'image final project/1/T2/2.jpg', 'image final project/1/T2/20.jpg', 'image final project/1/T2/3.jpg', 'image final project/1/T2/4.jpg', 'image final project/1/T2/5.jpg', 'image final project/1/T2/6.jpg', 'image final project/1/T2/7.jpg', 'image final project/1/T2/8.jpg', 'image final project/1/T2/9.jpg', 'image final project/2/CT/0.jpg', 'image final project/2/CT/1.jpg', 'image final project/2/CT/10.jpg', 'image final project/2/CT/11.jpg', 'image final project/2/CT/12.jpg', 'image final project/2/CT/13.jpg', 'image final project/2/CT/14.jpg', 'image final project/2/CT/15.jpg', 'image final project/2/CT/16.jpg', 'image final project/2/CT/17.jpg', 'image final project/2/CT/18.jpg', 'image final project/2/CT/19.jpg', 'image final project/2/CT/2.jpg', 'image final project/2/CT/20.jpg', 'image final project/2/CT/21.jpg', 'image final project/2/CT/22.jpg', 'image final project/2/CT/23.jpg', 'image final project/2/CT/3.jpg', 'image final project/2/CT/4.jpg', 'image final project/2/CT/5.jpg', 'image final project/2/CT/6.jpg', 'image final project/2/CT/7.jpg', 'image final project/2/CT/8.jpg', 'image final project/2/CT/9.jpg', 'image final project/2/FT/0.jpg', 'image final project/2/FT/1.jpg', 'image final project/2/FT/10.jpg', 'image final project/2/FT/11.jpg', 'image final project/2/FT/12.jpg', 'image final project/2/FT/13.jpg', 'image final project/2/FT/14.jpg', 'image final project/2/FT/15.jpg', 'image final project/2/FT/16.jpg', 'image final project/2/FT/17.jpg', 'image final project/2/FT/18.jpg', 'image final project/2/FT/19.jpg', 'image final project/2/FT/2.jpg', 'image final project/2/FT/20.jpg', 'image final project/2/FT/21.jpg', 'image final project/2/FT/22.jpg', 'image final project/2/FT/23.jpg', 'image final project/2/FT/3.jpg', 'image final project/2/FT/4.jpg', 'image final project/2/FT/5.jpg', 'image final project/2/FT/6.jpg', 'image final project/2/FT/7.jpg', 'image final project/2/FT/8.jpg', 'image final project/2/FT/9.jpg', 'image final project/2/MN/0.jpg', 'image final project/2/MN/1.jpg', 'image final project/2/MN/10.jpg', 'image final project/2/MN/11.jpg', 'image final project/2/MN/12.jpg', 'image final project/2/MN/13.jpg', 'image final project/2/MN/14.jpg', 'image final project/2/MN/15.jpg', 'image final project/2/MN/16.jpg', 'image final project/2/MN/17.jpg', 'image final project/2/MN/18.jpg', 'image final project/2/MN/19.jpg', 'image final project/2/MN/2.jpg', 'image final project/2/MN/20.jpg', 'image final project/2/MN/21.jpg', 'image final project/2/MN/22.jpg', 'image final project/2/MN/23.jpg', 'image final project/2/MN/3.jpg', 'image final project/2/MN/4.jpg', 'image final project/2/MN/5.jpg', 'image final project/2/MN/6.jpg', 'image final project/2/MN/7.jpg', 'image final project/2/MN/8.jpg', 'image final project/2/MN/9.jpg', 'image final project/2/T1/0.jpg', 'image final project/2/T1/1.jpg', 'image final project/2/T1/10.jpg', 'image final project/2/T1/11.jpg', 'image final project/2/T1/12.jpg', 'image final project/2/T1/13.jpg', 'image final project/2/T1/14.jpg', 'image final project/2/T1/15.jpg', 'image final project/2/T1/16.jpg', 'image final project/2/T1/17.jpg', 'image final project/2/T1/18.jpg', 'image final project/2/T1/19.jpg', 'image final project/2/T1/2.jpg', 'image final project/2/T1/20.jpg', 'image final project/2/T1/21.jpg', 'image final project/2/T1/22.jpg', 'image final project/2/T1/23.jpg', 'image final project/2/T1/3.jpg', 'image final project/2/T1/4.jpg', 'image final project/2/T1/5.jpg', 'image final project/2/T1/6.jpg', 'image final project/2/T1/7.jpg', 'image final project/2/T1/8.jpg', 'image final project/2/T1/9.jpg', 'image final project/2/T2/0.jpg', 'image final project/2/T2/1.jpg', 'image final project/2/T2/10.jpg', 'image final project/2/T2/11.jpg', 'image final project/2/T2/12.jpg', 'image final project/2/T2/13.jpg', 'image final project/2/T2/14.jpg', 'image final project/2/T2/15.jpg', 'image final project/2/T2/16.jpg', 'image final project/2/T2/17.jpg', 'image final project/2/T2/18.jpg', 'image final project/2/T2/19.jpg', 'image final project/2/T2/2.jpg', 'image final project/2/T2/20.jpg', 'image final project/2/T2/21.jpg', 'image final project/2/T2/22.jpg', 'image final project/2/T2/23.jpg', 'image final project/2/T2/3.jpg', 'image final project/2/T2/4.jpg', 'image final project/2/T2/5.jpg', 'image final project/2/T2/6.jpg', 'image final project/2/T2/7.jpg', 'image final project/2/T2/8.jpg', 'image final project/2/T2/9.jpg', 'image final project/3/CT/0.jpg', 'image final project/3/CT/1.jpg', 'image final project/3/CT/10.jpg', 'image final project/3/CT/11.jpg', 'image final project/3/CT/12.jpg', 'image final project/3/CT/13.jpg', 'image final project/3/CT/14.jpg', 'image final project/3/CT/15.jpg', 'image final project/3/CT/16.jpg', 'image final project/3/CT/17.jpg', 'image final project/3/CT/18.jpg', 'image final project/3/CT/19.jpg', 'image final project/3/CT/2.jpg', 'image final project/3/CT/20.jpg', 'image final project/3/CT/3.jpg', 'image final project/3/CT/4.jpg', 'image final project/3/CT/5.jpg', 'image final project/3/CT/6.jpg', 'image final project/3/CT/7.jpg', 'image final project/3/CT/8.jpg', 'image final project/3/CT/9.jpg', 'image final project/3/FT/0.jpg', 'image final project/3/FT/1.jpg', 'image final project/3/FT/10.jpg', 'image final project/3/FT/11.jpg', 'image final project/3/FT/12.jpg', 'image final project/3/FT/13.jpg', 'image final project/3/FT/14.jpg', 'image final project/3/FT/15.jpg', 'image final project/3/FT/16.jpg', 'image final project/3/FT/17.jpg', 'image final project/3/FT/18.jpg', 'image final project/3/FT/19.jpg', 'image final project/3/FT/2.jpg', 'image final project/3/FT/20.jpg', 'image final project/3/FT/3.jpg', 'image final project/3/FT/4.jpg', 'image final project/3/FT/5.jpg', 'image final project/3/FT/6.jpg', 'image final project/3/FT/7.jpg', 'image final project/3/FT/8.jpg', 'image final project/3/FT/9.jpg', 'image final project/3/MN/0.jpg', 'image final project/3/MN/1.jpg', 'image final project/3/MN/10.jpg', 'image final project/3/MN/11.jpg', 'image final project/3/MN/12.jpg', 'image final project/3/MN/13.jpg', 'image final project/3/MN/14.jpg', 'image final project/3/MN/15.jpg', 'image final project/3/MN/16.jpg', 'image final project/3/MN/17.jpg', 'image final project/3/MN/18.jpg', 'image final project/3/MN/19.jpg', 'image final project/3/MN/2.jpg', 'image final project/3/MN/20.jpg', 'image final project/3/MN/3.jpg', 'image final project/3/MN/4.jpg', 'image final project/3/MN/5.jpg', 'image final project/3/MN/6.jpg', 'image final project/3/MN/7.jpg', 'image final project/3/MN/8.jpg', 'image final project/3/MN/9.jpg', 'image final project/3/T1/0.jpg', 'image final project/3/T1/1.jpg', 'image final project/3/T1/10.jpg', 'image final project/3/T1/11.jpg', 'image final project/3/T1/12.jpg', 'image final project/3/T1/13.jpg', 'image final project/3/T1/14.jpg', 'image final project/3/T1/15.jpg', 'image final project/3/T1/16.jpg', 'image final project/3/T1/17.jpg', 'image final project/3/T1/18.jpg', 'image final project/3/T1/19.jpg', 'image final project/3/T1/2.jpg', 'image final project/3/T1/20.jpg', 'image final project/3/T1/3.jpg', 'image final project/3/T1/4.jpg', 'image final project/3/T1/5.jpg', 'image final project/3/T1/6.jpg', 'image final project/3/T1/7.jpg', 'image final project/3/T1/8.jpg', 'image final project/3/T1/9.jpg', 'image final project/3/T2/0.jpg', 'image final project/3/T2/1.jpg', 'image final project/3/T2/10.jpg', 'image final project/3/T2/11.jpg', 'image final project/3/T2/12.jpg', 'image final project/3/T2/13.jpg', 'image final project/3/T2/14.jpg', 'image final project/3/T2/15.jpg', 'image final project/3/T2/16.jpg', 'image final project/3/T2/17.jpg', 'image final project/3/T2/18.jpg', 'image final project/3/T2/19.jpg', 'image final project/3/T2/2.jpg', 'image final project/3/T2/20.jpg', 'image final project/3/T2/3.jpg', 'image final project/3/T2/4.jpg', 'image final project/3/T2/5.jpg', 'image final project/3/T2/6.jpg', 'image final project/3/T2/7.jpg', 'image final project/3/T2/8.jpg', 'image final project/3/T2/9.jpg', 'image final project/4/CT/0.jpg', 'image final project/4/CT/1.jpg', 'image final project/4/CT/10.jpg', 'image final project/4/CT/11.jpg', 'image final project/4/CT/12.jpg', 'image final project/4/CT/13.jpg', 'image final project/4/CT/14.jpg', 'image final project/4/CT/15.jpg', 'image final project/4/CT/16.jpg', 'image final project/4/CT/17.jpg', 'image final project/4/CT/18.jpg', 'image final project/4/CT/19.jpg', 'image final project/4/CT/2.jpg', 'image final project/4/CT/3.jpg', 'image final project/4/CT/4.jpg', 'image final project/4/CT/5.jpg', 'image final project/4/CT/6.jpg', 'image final project/4/CT/7.jpg', 'image final project/4/CT/8.jpg', 'image final project/4/CT/9.jpg', 'image final project/4/FT/0.jpg', 'image final project/4/FT/1.jpg', 'image final project/4/FT/10.jpg', 'image final project/4/FT/11.jpg', 'image final project/4/FT/12.jpg', 'image final project/4/FT/13.jpg', 'image final project/4/FT/14.jpg', 'image final project/4/FT/15.jpg', 'image final project/4/FT/16.jpg', 'image final project/4/FT/17.jpg', 'image final project/4/FT/18.jpg', 'image final project/4/FT/19.jpg', 'image final project/4/FT/2.jpg', 'image final project/4/FT/3.jpg', 'image final project/4/FT/4.jpg', 'image final project/4/FT/5.jpg', 'image final project/4/FT/6.jpg', 'image final project/4/FT/7.jpg', 'image final project/4/FT/8.jpg', 'image final project/4/FT/9.jpg', 'image final project/4/MN/0.jpg', 'image final project/4/MN/1.jpg', 'image final project/4/MN/10.jpg', 'image final project/4/MN/11.jpg', 'image final project/4/MN/12.jpg', 'image final project/4/MN/13.jpg', 'image final project/4/MN/14.jpg', 'image final project/4/MN/15.jpg', 'image final project/4/MN/16.jpg', 'image final project/4/MN/17.jpg', 'image final project/4/MN/18.jpg', 'image final project/4/MN/19.jpg', 'image final project/4/MN/2.jpg', 'image final project/4/MN/3.jpg', 'image final project/4/MN/4.jpg', 'image final project/4/MN/5.jpg', 'image final project/4/MN/6.jpg', 'image final project/4/MN/7.jpg', 'image final project/4/MN/8.jpg', 'image final project/4/MN/9.jpg', 'image final project/4/T1/0.jpg', 'image final project/4/T1/1.jpg', 'image final project/4/T1/10.jpg', 'image final project/4/T1/11.jpg', 'image final project/4/T1/12.jpg', 'image final project/4/T1/13.jpg', 'image final project/4/T1/14.jpg', 'image final project/4/T1/15.jpg', 'image final project/4/T1/16.jpg', 'image final project/4/T1/17.jpg', 'image final project/4/T1/18.jpg', 'image final project/4/T1/19.jpg', 'image final project/4/T1/2.jpg', 'image final project/4/T1/3.jpg', 'image final project/4/T1/4.jpg', 'image final project/4/T1/5.jpg', 'image final project/4/T1/6.jpg', 'image final project/4/T1/7.jpg', 'image final project/4/T1/8.jpg', 'image final project/4/T1/9.jpg', 'image final project/4/T2/0.jpg', 'image final project/4/T2/1.jpg', 'image final project/4/T2/10.jpg', 'image final project/4/T2/11.jpg', 'image final project/4/T2/12.jpg', 'image final project/4/T2/13.jpg', 'image final project/4/T2/14.jpg', 'image final project/4/T2/15.jpg', 'image final project/4/T2/16.jpg', 'image final project/4/T2/17.jpg', 'image final project/4/T2/18.jpg', 'image final project/4/T2/19.jpg', 'image final project/4/T2/2.jpg', 'image final project/4/T2/3.jpg', 'image final project/4/T2/4.jpg', 'image final project/4/T2/5.jpg', 'image final project/4/T2/6.jpg', 'image final project/4/T2/7.jpg', 'image final project/4/T2/8.jpg', 'image final project/4/T2/9.jpg', 'image final project/5/CT/0.jpg', 'image final project/5/CT/1.jpg', 'image final project/5/CT/10.jpg', 'image final project/5/CT/11.jpg', 'image final project/5/CT/12.jpg', 'image final project/5/CT/13.jpg', 'image final project/5/CT/14.jpg', 'image final project/5/CT/15.jpg', 'image final project/5/CT/16.jpg', 'image final project/5/CT/17.jpg', 'image final project/5/CT/18.jpg', 'image final project/5/CT/19.jpg', 'image final project/5/CT/2.jpg', 'image final project/5/CT/20.jpg', 'image final project/5/CT/21.jpg', 'image final project/5/CT/3.jpg', 'image final project/5/CT/4.jpg', 'image final project/5/CT/5.jpg', 'image final project/5/CT/6.jpg', 'image final project/5/CT/7.jpg', 'image final project/5/CT/8.jpg', 'image final project/5/CT/9.jpg', 'image final project/5/FT/0.jpg', 'image final project/5/FT/1.jpg', 'image final project/5/FT/10.jpg', 'image final project/5/FT/11.jpg', 'image final project/5/FT/12.jpg', 'image final project/5/FT/13.jpg', 'image final project/5/FT/14.jpg', 'image final project/5/FT/15.jpg', 'image final project/5/FT/16.jpg', 'image final project/5/FT/17.jpg', 'image final project/5/FT/18.jpg', 'image final project/5/FT/19.jpg', 'image final project/5/FT/2.jpg', 'image final project/5/FT/20.jpg', 'image final project/5/FT/21.jpg', 'image final project/5/FT/3.jpg', 'image final project/5/FT/4.jpg', 'image final project/5/FT/5.jpg', 'image final project/5/FT/6.jpg', 'image final project/5/FT/7.jpg', 'image final project/5/FT/8.jpg', 'image final project/5/FT/9.jpg', 'image final project/5/MN/0.jpg', 'image final project/5/MN/1.jpg', 'image final project/5/MN/10.jpg', 'image final project/5/MN/11.jpg', 'image final project/5/MN/12.jpg', 'image final project/5/MN/13.jpg', 'image final project/5/MN/14.jpg', 'image final project/5/MN/15.jpg', 'image final project/5/MN/16.jpg', 'image final project/5/MN/17.jpg', 'image final project/5/MN/18.jpg', 'image final project/5/MN/19.jpg', 'image final project/5/MN/2.jpg', 'image final project/5/MN/20.jpg', 'image final project/5/MN/21.jpg', 'image final project/5/MN/3.jpg', 'image final project/5/MN/4.jpg', 'image final project/5/MN/5.jpg', 'image final project/5/MN/6.jpg', 'image final project/5/MN/7.jpg', 'image final project/5/MN/8.jpg', 'image final project/5/MN/9.jpg', 'image final project/5/T1/0.jpg', 'image final project/5/T1/1.jpg', 'image final project/5/T1/10.jpg', 'image final project/5/T1/11.jpg', 'image final project/5/T1/12.jpg', 'image final project/5/T1/13.jpg', 'image final project/5/T1/14.jpg', 'image final project/5/T1/15.jpg', 'image final project/5/T1/16.jpg', 'image final project/5/T1/17.jpg', 'image final project/5/T1/18.jpg', 'image final project/5/T1/19.jpg', 'image final project/5/T1/2.jpg', 'image final project/5/T1/20.jpg', 'image final project/5/T1/21.jpg', 'image final project/5/T1/3.jpg', 'image final project/5/T1/4.jpg', 'image final project/5/T1/5.jpg', 'image final project/5/T1/6.jpg', 'image final project/5/T1/7.jpg', 'image final project/5/T1/8.jpg', 'image final project/5/T1/9.jpg', 'image final project/5/T2/0.jpg', 'image final project/5/T2/1.jpg', 'image final project/5/T2/10.jpg', 'image final project/5/T2/11.jpg', 'image final project/5/T2/12.jpg', 'image final project/5/T2/13.jpg', 'image final project/5/T2/14.jpg', 'image final project/5/T2/15.jpg', 'image final project/5/T2/16.jpg', 'image final project/5/T2/17.jpg', 'image final project/5/T2/18.jpg', 'image final project/5/T2/19.jpg', 'image final project/5/T2/2.jpg', 'image final project/5/T2/20.jpg', 'image final project/5/T2/21.jpg', 'image final project/5/T2/3.jpg', 'image final project/5/T2/4.jpg', 'image final project/5/T2/5.jpg', 'image final project/5/T2/6.jpg', 'image final project/5/T2/7.jpg', 'image final project/5/T2/8.jpg', 'image final project/5/T2/9.jpg', 'image final project/6/CT/0.jpg', 'image final project/6/CT/1.jpg', 'image final project/6/CT/10.jpg', 'image final project/6/CT/11.jpg', 'image final project/6/CT/12.jpg', 'image final project/6/CT/13.jpg', 'image final project/6/CT/14.jpg', 'image final project/6/CT/15.jpg', 'image final project/6/CT/16.jpg', 'image final project/6/CT/17.jpg', 'image final project/6/CT/18.jpg', 'image final project/6/CT/2.jpg', 'image final project/6/CT/3.jpg', 'image final project/6/CT/4.jpg', 'image final project/6/CT/5.jpg', 'image final project/6/CT/6.jpg', 'image final project/6/CT/7.jpg', 'image final project/6/CT/8.jpg', 'image final project/6/CT/9.jpg', 'image final project/6/FT/0.jpg', 'image final project/6/FT/1.jpg', 'image final project/6/FT/10.jpg', 'image final project/6/FT/11.jpg', 'image final project/6/FT/12.jpg', 'image final project/6/FT/13.jpg', 'image final project/6/FT/14.jpg', 'image final project/6/FT/15.jpg', 'image final project/6/FT/16.jpg', 'image final project/6/FT/17.jpg', 'image final project/6/FT/18.jpg', 'image final project/6/FT/2.jpg', 'image final project/6/FT/3.jpg', 'image final project/6/FT/4.jpg', 'image final project/6/FT/5.jpg', 'image final project/6/FT/6.jpg', 'image final project/6/FT/7.jpg', 'image final project/6/FT/8.jpg', 'image final project/6/FT/9.jpg', 'image final project/6/MN/0.jpg', 'image final project/6/MN/1.jpg', 'image final project/6/MN/10.jpg', 'image final project/6/MN/11.jpg', 'image final project/6/MN/12.jpg', 'image final project/6/MN/13.jpg', 'image final project/6/MN/14.jpg', 'image final project/6/MN/15.jpg', 'image final project/6/MN/16.jpg', 'image final project/6/MN/17.jpg', 'image final project/6/MN/18.jpg', 'image final project/6/MN/2.jpg', 'image final project/6/MN/3.jpg', 'image final project/6/MN/4.jpg', 'image final project/6/MN/5.jpg', 'image final project/6/MN/6.jpg', 'image final project/6/MN/7.jpg', 'image final project/6/MN/8.jpg', 'image final project/6/MN/9.jpg', 'image final project/6/T1/0.jpg', 'image final project/6/T1/1.jpg', 'image final project/6/T1/10.jpg', 'image final project/6/T1/11.jpg', 'image final project/6/T1/12.jpg', 'image final project/6/T1/13.jpg', 'image final project/6/T1/14.jpg', 'image final project/6/T1/15.jpg', 'image final project/6/T1/16.jpg', 'image final project/6/T1/17.jpg', 'image final project/6/T1/18.jpg', 'image final project/6/T1/2.jpg', 'image final project/6/T1/3.jpg', 'image final project/6/T1/4.jpg', 'image final project/6/T1/5.jpg', 'image final project/6/T1/6.jpg', 'image final project/6/T1/7.jpg', 'image final project/6/T1/8.jpg', 'image final project/6/T1/9.jpg', 'image final project/6/T2/0.jpg', 'image final project/6/T2/1.jpg', 'image final project/6/T2/10.jpg', 'image final project/6/T2/11.jpg', 'image final project/6/T2/12.jpg', 'image final project/6/T2/13.jpg', 'image final project/6/T2/14.jpg', 'image final project/6/T2/15.jpg', 'image final project/6/T2/16.jpg', 'image final project/6/T2/17.jpg', 'image final project/6/T2/18.jpg', 'image final project/6/T2/2.jpg', 'image final project/6/T2/3.jpg', 'image final project/6/T2/4.jpg', 'image final project/6/T2/5.jpg', 'image final project/6/T2/6.jpg', 'image final project/6/T2/7.jpg', 'image final project/6/T2/8.jpg', 'image final project/6/T2/9.jpg', 'image final project/7/CT/0.jpg', 'image final project/7/CT/1.jpg', 'image final project/7/CT/10.jpg', 'image final project/7/CT/11.jpg', 'image final project/7/CT/12.jpg', 'image final project/7/CT/13.jpg', 'image final project/7/CT/14.jpg', 'image final project/7/CT/15.jpg', 'image final project/7/CT/16.jpg', 'image final project/7/CT/17.jpg', 'image final project/7/CT/18.jpg', 'image final project/7/CT/19.jpg', 'image final project/7/CT/2.jpg', 'image final project/7/CT/20.jpg', 'image final project/7/CT/3.jpg', 'image final project/7/CT/4.jpg', 'image final project/7/CT/5.jpg', 'image final project/7/CT/6.jpg', 'image final project/7/CT/7.jpg', 'image final project/7/CT/8.jpg', 'image final project/7/CT/9.jpg', 'image final project/7/FT/0.jpg', 'image final project/7/FT/1.jpg', 'image final project/7/FT/10.jpg', 'image final project/7/FT/11.jpg', 'image final project/7/FT/12.jpg', 'image final project/7/FT/13.jpg', 'image final project/7/FT/14.jpg', 'image final project/7/FT/15.jpg', 'image final project/7/FT/16.jpg', 'image final project/7/FT/17.jpg', 'image final project/7/FT/18.jpg', 'image final project/7/FT/19.jpg', 'image final project/7/FT/2.jpg', 'image final project/7/FT/20.jpg', 'image final project/7/FT/3.jpg', 'image final project/7/FT/4.jpg', 'image final project/7/FT/5.jpg', 'image final project/7/FT/6.jpg', 'image final project/7/FT/7.jpg', 'image final project/7/FT/8.jpg', 'image final project/7/FT/9.jpg', 'image final project/7/MN/0.jpg', 'image final project/7/MN/1.jpg', 'image final project/7/MN/10.jpg', 'image final project/7/MN/11.jpg', 'image final project/7/MN/12.jpg', 'image final project/7/MN/13.jpg', 'image final project/7/MN/14.jpg', 'image final project/7/MN/15.jpg', 'image final project/7/MN/16.jpg', 'image final project/7/MN/17.jpg', 'image final project/7/MN/18.jpg', 'image final project/7/MN/19.jpg', 'image final project/7/MN/2.jpg', 'image final project/7/MN/20.jpg', 'image final project/7/MN/3.jpg', 'image final project/7/MN/4.jpg', 'image final project/7/MN/5.jpg', 'image final project/7/MN/6.jpg', 'image final project/7/MN/7.jpg', 'image final project/7/MN/8.jpg', 'image final project/7/MN/9.jpg', 'image final project/7/T1/0.jpg', 'image final project/7/T1/1.jpg', 'image final project/7/T1/10.jpg', 'image final project/7/T1/11.jpg', 'image final project/7/T1/12.jpg', 'image final project/7/T1/13.jpg', 'image final project/7/T1/14.jpg', 'image final project/7/T1/15.jpg', 'image final project/7/T1/16.jpg', 'image final project/7/T1/17.jpg', 'image final project/7/T1/18.jpg', 'image final project/7/T1/19.jpg', 'image final project/7/T1/2.jpg', 'image final project/7/T1/20.jpg', 'image final project/7/T1/3.jpg', 'image final project/7/T1/4.jpg', 'image final project/7/T1/5.jpg', 'image final project/7/T1/6.jpg', 'image final project/7/T1/7.jpg', 'image final project/7/T1/8.jpg', 'image final project/7/T1/9.jpg', 'image final project/7/T2/0.jpg', 'image final project/7/T2/1.jpg', 'image final project/7/T2/10.jpg', 'image final project/7/T2/11.jpg', 'image final project/7/T2/12.jpg', 'image final project/7/T2/13.jpg', 'image final project/7/T2/14.jpg', 'image final project/7/T2/15.jpg', 'image final project/7/T2/16.jpg', 'image final project/7/T2/17.jpg', 'image final project/7/T2/18.jpg', 'image final project/7/T2/19.jpg', 'image final project/7/T2/2.jpg', 'image final project/7/T2/20.jpg', 'image final project/7/T2/3.jpg', 'image final project/7/T2/4.jpg', 'image final project/7/T2/5.jpg', 'image final project/7/T2/6.jpg', 'image final project/7/T2/7.jpg', 'image final project/7/T2/8.jpg', 'image final project/7/T2/9.jpg', 'image final project/8/CT/0.jpg', 'image final project/8/CT/1.jpg', 'image final project/8/CT/10.jpg', 'image final project/8/CT/11.jpg', 'image final project/8/CT/12.jpg', 'image final project/8/CT/13.jpg', 'image final project/8/CT/14.jpg', 'image final project/8/CT/15.jpg', 'image final project/8/CT/16.jpg', 'image final project/8/CT/17.jpg', 'image final project/8/CT/18.jpg', 'image final project/8/CT/19.jpg', 'image final project/8/CT/2.jpg', 'image final project/8/CT/20.jpg', 'image final project/8/CT/3.jpg', 'image final project/8/CT/4.jpg', 'image final project/8/CT/5.jpg', 'image final project/8/CT/6.jpg', 'image final project/8/CT/7.jpg', 'image final project/8/CT/8.jpg', 'image final project/8/CT/9.jpg', 'image final project/8/FT/0.jpg', 'image final project/8/FT/1.jpg', 'image final project/8/FT/10.jpg', 'image final project/8/FT/11.jpg', 'image final project/8/FT/12.jpg', 'image final project/8/FT/13.jpg', 'image final project/8/FT/14.jpg', 'image final project/8/FT/15.jpg', 'image final project/8/FT/16.jpg', 'image final project/8/FT/17.jpg', 'image final project/8/FT/18.jpg', 'image final project/8/FT/19.jpg', 'image final project/8/FT/2.jpg', 'image final project/8/FT/20.jpg', 'image final project/8/FT/3.jpg', 'image final project/8/FT/4.jpg', 'image final project/8/FT/5.jpg', 'image final project/8/FT/6.jpg', 'image final project/8/FT/7.jpg', 'image final project/8/FT/8.jpg', 'image final project/8/FT/9.jpg', 'image final project/8/MN/0.jpg', 'image final project/8/MN/1.jpg', 'image final project/8/MN/10.jpg', 'image final project/8/MN/11.jpg', 'image final project/8/MN/12.jpg', 'image final project/8/MN/13.jpg', 'image final project/8/MN/14.jpg', 'image final project/8/MN/15.jpg', 'image final project/8/MN/16.jpg', 'image final project/8/MN/17.jpg', 'image final project/8/MN/18.jpg', 'image final project/8/MN/19.jpg', 'image final project/8/MN/2.jpg', 'image final project/8/MN/20.jpg', 'image final project/8/MN/3.jpg', 'image final project/8/MN/4.jpg', 'image final project/8/MN/5.jpg', 'image final project/8/MN/6.jpg', 'image final project/8/MN/7.jpg', 'image final project/8/MN/8.jpg', 'image final project/8/MN/9.jpg', 'image final project/8/T1/0.jpg', 'image final project/8/T1/1.jpg', 'image final project/8/T1/10.jpg', 'image final project/8/T1/11.jpg', 'image final project/8/T1/12.jpg', 'image final project/8/T1/13.jpg', 'image final project/8/T1/14.jpg', 'image final project/8/T1/15.jpg', 'image final project/8/T1/16.jpg', 'image final project/8/T1/17.jpg', 'image final project/8/T1/18.jpg', 'image final project/8/T1/19.jpg', 'image final project/8/T1/2.jpg', 'image final project/8/T1/20.jpg', 'image final project/8/T1/3.jpg', 'image final project/8/T1/4.jpg', 'image final project/8/T1/5.jpg', 'image final project/8/T1/6.jpg', 'image final project/8/T1/7.jpg', 'image final project/8/T1/8.jpg', 'image final project/8/T1/9.jpg', 'image final project/8/T2/0.jpg', 'image final project/8/T2/1.jpg', 'image final project/8/T2/10.jpg', 'image final project/8/T2/11.jpg', 'image final project/8/T2/12.jpg', 'image final project/8/T2/13.jpg', 'image final project/8/T2/14.jpg', 'image final project/8/T2/15.jpg', 'image final project/8/T2/16.jpg', 'image final project/8/T2/17.jpg', 'image final project/8/T2/18.jpg', 'image final project/8/T2/19.jpg', 'image final project/8/T2/2.jpg', 'image final project/8/T2/20.jpg', 'image final project/8/T2/3.jpg', 'image final project/8/T2/4.jpg', 'image final project/8/T2/5.jpg', 'image final project/8/T2/6.jpg', 'image final project/8/T2/7.jpg', 'image final project/8/T2/8.jpg', 'image final project/8/T2/9.jpg', 'image final project/9/CT/0.jpg', 'image final project/9/CT/1.jpg', 'image final project/9/CT/10.jpg', 'image final project/9/CT/11.jpg', 'image final project/9/CT/12.jpg', 'image final project/9/CT/13.jpg', 'image final project/9/CT/14.jpg', 'image final project/9/CT/15.jpg', 'image final project/9/CT/16.jpg', 'image final project/9/CT/17.jpg', 'image final project/9/CT/2.jpg', 'image final project/9/CT/3.jpg', 'image final project/9/CT/4.jpg', 'image final project/9/CT/5.jpg', 'image final project/9/CT/6.jpg', 'image final project/9/CT/7.jpg', 'image final project/9/CT/8.jpg', 'image final project/9/CT/9.jpg', 'image final project/9/FT/0.jpg', 'image final project/9/FT/1.jpg', 'image final project/9/FT/10.jpg', 'image final project/9/FT/11.jpg', 'image final project/9/FT/12.jpg', 'image final project/9/FT/13.jpg', 'image final project/9/FT/14.jpg', 'image final project/9/FT/15.jpg', 'image final project/9/FT/16.jpg', 'image final project/9/FT/17.jpg', 'image final project/9/FT/2.jpg', 'image final project/9/FT/3.jpg', 'image final project/9/FT/4.jpg', 'image final project/9/FT/5.jpg', 'image final project/9/FT/6.jpg', 'image final project/9/FT/7.jpg', 'image final project/9/FT/8.jpg', 'image final project/9/FT/9.jpg', 'image final project/9/MN/0.jpg', 'image final project/9/MN/1.jpg', 'image final project/9/MN/10.jpg', 'image final project/9/MN/11.jpg', 'image final project/9/MN/12.jpg', 'image final project/9/MN/13.jpg', 'image final project/9/MN/14.jpg', 'image final project/9/MN/15.jpg', 'image final project/9/MN/16.jpg', 'image final project/9/MN/17.jpg', 'image final project/9/MN/2.jpg', 'image final project/9/MN/3.jpg', 'image final project/9/MN/4.jpg', 'image final project/9/MN/5.jpg', 'image final project/9/MN/6.jpg', 'image final project/9/MN/7.jpg', 'image final project/9/MN/8.jpg', 'image final project/9/MN/9.jpg', 'image final project/9/T1/0.jpg', 'image final project/9/T1/1.jpg', 'image final project/9/T1/10.jpg', 'image final project/9/T1/11.jpg', 'image final project/9/T1/12.jpg', 'image final project/9/T1/13.jpg', 'image final project/9/T1/14.jpg', 'image final project/9/T1/15.jpg', 'image final project/9/T1/16.jpg', 'image final project/9/T1/17.jpg', 'image final project/9/T1/2.jpg', 'image final project/9/T1/3.jpg', 'image final project/9/T1/4.jpg', 'image final project/9/T1/5.jpg', 'image final project/9/T1/6.jpg', 'image final project/9/T1/7.jpg', 'image final project/9/T1/8.jpg', 'image final project/9/T1/9.jpg', 'image final project/9/T2/0.jpg', 'image final project/9/T2/1.jpg', 'image final project/9/T2/10.jpg', 'image final project/9/T2/11.jpg', 'image final project/9/T2/12.jpg', 'image final project/9/T2/13.jpg', 'image final project/9/T2/14.jpg', 'image final project/9/T2/15.jpg', 'image final project/9/T2/16.jpg', 'image final project/9/T2/17.jpg', 'image final project/9/T2/2.jpg', 'image final project/9/T2/3.jpg', 'image final project/9/T2/4.jpg', 'image final project/9/T2/5.jpg', 'image final project/9/T2/6.jpg', 'image final project/9/T2/7.jpg', 'image final project/9/T2/8.jpg', 'image final project/9/T2/9.jpg', 'image final project/0/CT/', 'image final project/0/FT/', 'image final project/0/MN/', 'image final project/0/T1/', 'image final project/0/T2/', 'image final project/1/CT/', 'image final project/1/FT/', 'image final project/1/MN/', 'image final project/1/T1/', 'image final project/1/T2/', 'image final project/2/CT/', 'image final project/2/FT/', 'image final project/2/MN/', 'image final project/2/T1/', 'image final project/2/T2/', 'image final project/3/CT/', 'image final project/3/FT/', 'image final project/3/MN/', 'image final project/3/T1/', 'image final project/3/T2/', 'image final project/4/CT/', 'image final project/4/FT/', 'image final project/4/MN/', 'image final project/4/T1/', 'image final project/4/T2/', 'image final project/5/CT/', 'image final project/5/FT/', 'image final project/5/MN/', 'image final project/5/T1/', 'image final project/5/T2/', 'image final project/6/CT/', 'image final project/6/FT/', 'image final project/6/MN/', 'image final project/6/T1/', 'image final project/6/T2/', 'image final project/7/CT/', 'image final project/7/FT/', 'image final project/7/MN/', 'image final project/7/T1/', 'image final project/7/T2/', 'image final project/8/CT/', 'image final project/8/FT/', 'image final project/8/MN/', 'image final project/8/T1/', 'image final project/8/T2/', 'image final project/9/CT/', 'image final project/9/FT/', 'image final project/9/MN/', 'image final project/9/T1/', 'image final project/9/T2/', 'image final project/0/', 'image final project/1/', 'image final project/2/', 'image final project/3/', 'image final project/4/', 'image final project/5/', 'image final project/6/', 'image final project/7/', 'image final project/8/', 'image final project/9/', 'image final project/']\n"
          ],
          "name": "stdout"
        }
      ]
    },
    {
      "cell_type": "code",
      "metadata": {
        "id": "rXFhz8MGZ3ne"
      },
      "source": [
        "!mv image\\ final\\ project image_final_project #change name "
      ],
      "execution_count": 4,
      "outputs": []
    },
    {
      "cell_type": "markdown",
      "metadata": {
        "id": "3kjUqMb1I1iI"
      },
      "source": [
        "將資料路徑保存到list "
      ]
    },
    {
      "cell_type": "code",
      "metadata": {
        "colab": {
          "base_uri": "https://localhost:8080/"
        },
        "id": "Uoell_fjWtEU",
        "outputId": "6f714e99-f4c0-469c-f709-29dba606391b"
      },
      "source": [
        "input_dir='image_final_project/'\r\n",
        "target_dir='image_final_project/'\r\n",
        "img_size = (512, 512)\r\n",
        "num_classes = 1  #這是什麼?\r\n",
        "batch_size = 4\r\n",
        "input_img_paths=[]\r\n",
        "target1_img_paths=[]\r\n",
        "target2_img_paths=[]\r\n",
        "target3_img_paths=[]\r\n",
        "target=['MN','CT','FT']\r\n",
        "for i in range(10):\r\n",
        "  train_input_dir=input_dir+str(i)+'/'+'T1'\r\n",
        "  temp_input_img_paths = sorted(\r\n",
        "    [\r\n",
        "        os.path.join(train_input_dir, fname)\r\n",
        "        for fname in os.listdir(train_input_dir)\r\n",
        "        if fname.endswith(\".jpg\")\r\n",
        "    ]\r\n",
        "  )\r\n",
        "  for t in target:\r\n",
        "    target_input_dir=input_dir+str(i)+'/'+t\r\n",
        "    temp_target_img_paths = sorted(\r\n",
        "      [\r\n",
        "          os.path.join(target_input_dir, fname)\r\n",
        "          for fname in os.listdir(target_input_dir)\r\n",
        "          if fname.endswith(\".jpg\")\r\n",
        "      ]\r\n",
        "    )\r\n",
        "    if t=='MN':\r\n",
        "      target1_img_paths.extend(temp_target_img_paths)\r\n",
        "    elif t=='CT':\r\n",
        "      target2_img_paths.extend(temp_target_img_paths)\r\n",
        "    else:\r\n",
        "      target3_img_paths.extend(temp_target_img_paths)\r\n",
        "\r\n",
        "  input_img_paths.extend(temp_input_img_paths)\r\n",
        "print(\"Number of samples:\", len(input_img_paths))\r\n",
        "print(\"Number of tatrget:\", len(target1_img_paths))\r\n"
      ],
      "execution_count": 5,
      "outputs": [
        {
          "output_type": "stream",
          "text": [
            "Number of samples: 207\n",
            "Number of tatrget: 207\n"
          ],
          "name": "stdout"
        }
      ]
    },
    {
      "cell_type": "code",
      "metadata": {
        "colab": {
          "base_uri": "https://localhost:8080/",
          "height": 1000
        },
        "id": "62PI04wlBvAf",
        "outputId": "d77d461e-8b92-4464-9295-2f304473887c"
      },
      "source": [
        "from IPython.display import Image, display\n",
        "from tensorflow.keras.preprocessing.image import load_img\n",
        "import PIL\n",
        "from PIL import ImageOps\n",
        " \n",
        "# Display input image #7\n",
        "display(Image(filename=input_img_paths[9]))\n",
        " \n",
        "# Display auto-contrast version of corresponding target (per-pixel categories)\n",
        "img = PIL.ImageOps.autocontrast(load_img(target1_img_paths[9]))\n",
        "display(img)"
      ],
      "execution_count": 6,
      "outputs": [
        {
          "output_type": "display_data",
          "data": {
            "image/jpeg": "[encoded data removed]",
            "text/plain": [
              "<IPython.core.display.Image object>"
            ]
          },
          "metadata": {
            "tags": []
          }
        },
        {
          "output_type": "display_data",
          "data": {
            "image/png": "[encoded data removed]",
            "text/plain": [
              "<PIL.Image.Image image mode=RGB size=512x512 at 0x7F191FADB198>"
            ]
          },
          "metadata": {
            "tags": []
          }
        }
      ]
    },
    {
      "cell_type": "code",
      "metadata": {
        "id": "v48k616SHsYN"
      },
      "source": [
        "from tensorflow import keras\n",
        "import numpy as np\n",
        "from tensorflow.keras.preprocessing.image import load_img\n",
        " \n",
        "class OxfordPets(keras.utils.Sequence):\n",
        "    \"\"\"Helper to iterate over the data (as Numpy arrays).\"\"\"\n",
        " \n",
        "    def __init__(self, batch_size, img_size, input_img_paths, target_img_paths):\n",
        "        self.batch_size = batch_size\n",
        "        self.img_size = img_size\n",
        "        self.input_img_paths = input_img_paths\n",
        "        self.target_img_paths = target_img_paths\n",
        " \n",
        "    def __len__(self):\n",
        "        return len(self.target_img_paths) // self.batch_size\n",
        " \n",
        "    def __getitem__(self, idx):\n",
        "        \"\"\"Returns tuple (input, target) correspond to batch #idx.\"\"\"\n",
        "        i = idx * self.batch_size\n",
        "        batch_input_img_paths = self.input_img_paths[i : i + self.batch_size]\n",
        "        batch_target_img_paths = self.target_img_paths[i : i + self.batch_size]\n",
        "        x = np.zeros((self.batch_size,) + self.img_size + (3,), dtype=\"float32\")\n",
        "        \n",
        "        for j, path in enumerate(batch_input_img_paths):\n",
        "            img = load_img(path, target_size=self.img_size)\n",
        "            x[j] = img\n",
        "        y = np.zeros((self.batch_size,) + self.img_size + (1,), dtype=\"float32\")\n",
        "        for j, path in enumerate(batch_target_img_paths):\n",
        "            img = load_img(path, target_size=self.img_size, color_mode=\"grayscale\")\n",
        "            y[j] = np.expand_dims(img, 2)\n",
        "            # Ground truth labels are 1, 2, 3. Subtract one to make them 0, 1, 2:\n",
        "        y=(y/255)\n",
        "        \n",
        "        return x, y"
      ],
      "execution_count": 7,
      "outputs": []
    },
    {
      "cell_type": "code",
      "metadata": {
        "colab": {
          "base_uri": "https://localhost:8080/"
        },
        "id": "rJMxRKY0H0Ws",
        "outputId": "ef5685dd-42db-4652-b562-f65bf5115d46"
      },
      "source": [
        "from tensorflow.keras import layers\n",
        " \n",
        " \n",
        "def get_model(img_size, num_classes):\n",
        "    inputs = keras.Input(shape=img_size + (3,))\n",
        " \n",
        "    ### [First half of the network: downsampling inputs] ###\n",
        " \n",
        "    # Entry block\n",
        "    x = layers.Conv2D(32, 3, strides=2, padding=\"same\")(inputs)\n",
        "    x = layers.BatchNormalization()(x)\n",
        "    x = layers.Activation(\"relu\")(x)\n",
        " \n",
        "    previous_block_activation = x  # Set aside residual\n",
        " \n",
        "    # Blocks 1, 2, 3 are identical apart from the feature depth.\n",
        "    for filters in [64, 128, 256]:\n",
        "        x = layers.Activation(\"relu\")(x)\n",
        "        x = layers.SeparableConv2D(filters, 3, padding=\"same\")(x)\n",
        "        x = layers.BatchNormalization()(x)\n",
        " \n",
        "        x = layers.Activation(\"relu\")(x)\n",
        "        x = layers.SeparableConv2D(filters, 3, padding=\"same\")(x)\n",
        "        x = layers.BatchNormalization()(x)\n",
        " \n",
        "        x = layers.MaxPooling2D(3, strides=2, padding=\"same\")(x)\n",
        " \n",
        "        # Project residual\n",
        "        residual = layers.Conv2D(filters, 1, strides=2, padding=\"same\")(\n",
        "            previous_block_activation\n",
        "        )\n",
        "        x = layers.add([x, residual])  # Add back residual\n",
        "        previous_block_activation = x  # Set aside next residual\n",
        " \n",
        "    ### [Second half of the network: upsampling inputs] ###\n",
        " \n",
        "    for filters in [256, 128, 64, 32]:\n",
        "        x = layers.Activation(\"relu\")(x)\n",
        "        x = layers.Conv2DTranspose(filters, 3, padding=\"same\")(x)\n",
        "        x = layers.BatchNormalization()(x)\n",
        " \n",
        "        x = layers.Activation(\"relu\")(x)\n",
        "        x = layers.Conv2DTranspose(filters, 3, padding=\"same\")(x)\n",
        "        x = layers.BatchNormalization()(x)\n",
        " \n",
        "        x = layers.UpSampling2D(2)(x)\n",
        " \n",
        "        # Project residual\n",
        "        residual = layers.UpSampling2D(2)(previous_block_activation)\n",
        "        residual = layers.Conv2D(filters, 1, padding=\"same\")(residual)\n",
        "        x = layers.add([x, residual])  # Add back residual\n",
        "        previous_block_activation = x  # Set aside next residual\n",
        " \n",
        "    # Add a per-pixel classification layer\n",
        "    #outputs = layers.Conv2D(num_classes, 1, activation=\"softmax\", padding=\"same\")(x) #multi class\n",
        "    outputs = layers.Conv2D(num_classes, 1, activation=\"sigmoid\", padding=\"same\")(x)  #binary\n",
        "    # Define the model\n",
        "    model = keras.Model(inputs, outputs)\n",
        "    return model\n",
        " \n",
        " \n",
        "# Free up RAM in case the model definition cells were run multiple times\n",
        "keras.backend.clear_session()\n",
        " \n",
        "# Build model\n",
        "model = get_model(img_size, num_classes)\n",
        "model.summary()"
      ],
      "execution_count": 8,
      "outputs": [
        {
          "output_type": "stream",
          "text": [
            "Model: \"model\"\n",
            "__________________________________________________________________________________________________\n",
            "Layer (type)                    Output Shape         Param #     Connected to                     \n",
            "==================================================================================================\n",
            "input_1 (InputLayer)            [(None, 512, 512, 3) 0                                            \n",
            "__________________________________________________________________________________________________\n",
            "conv2d (Conv2D)                 (None, 256, 256, 32) 896         input_1[0][0]                    \n",
            "__________________________________________________________________________________________________\n",
            "batch_normalization (BatchNorma (None, 256, 256, 32) 128         conv2d[0][0]                     \n",
            "__________________________________________________________________________________________________\n",
            "activation (Activation)         (None, 256, 256, 32) 0           batch_normalization[0][0]        \n",
            "__________________________________________________________________________________________________\n",
            "activation_1 (Activation)       (None, 256, 256, 32) 0           activation[0][0]                 \n",
            "__________________________________________________________________________________________________\n",
            "separable_conv2d (SeparableConv (None, 256, 256, 64) 2400        activation_1[0][0]               \n",
            "__________________________________________________________________________________________________\n",
            "batch_normalization_1 (BatchNor (None, 256, 256, 64) 256         separable_conv2d[0][0]           \n",
            "__________________________________________________________________________________________________\n",
            "activation_2 (Activation)       (None, 256, 256, 64) 0           batch_normalization_1[0][0]      \n",
            "__________________________________________________________________________________________________\n",
            "separable_conv2d_1 (SeparableCo (None, 256, 256, 64) 4736        activation_2[0][0]               \n",
            "__________________________________________________________________________________________________\n",
            "batch_normalization_2 (BatchNor (None, 256, 256, 64) 256         separable_conv2d_1[0][0]         \n",
            "__________________________________________________________________________________________________\n",
            "max_pooling2d (MaxPooling2D)    (None, 128, 128, 64) 0           batch_normalization_2[0][0]      \n",
            "__________________________________________________________________________________________________\n",
            "conv2d_1 (Conv2D)               (None, 128, 128, 64) 2112        activation[0][0]                 \n",
            "__________________________________________________________________________________________________\n",
            "add (Add)                       (None, 128, 128, 64) 0           max_pooling2d[0][0]              \n",
            "                                                                 conv2d_1[0][0]                   \n",
            "__________________________________________________________________________________________________\n",
            "activation_3 (Activation)       (None, 128, 128, 64) 0           add[0][0]                        \n",
            "__________________________________________________________________________________________________\n",
            "separable_conv2d_2 (SeparableCo (None, 128, 128, 128 8896        activation_3[0][0]               \n",
            "__________________________________________________________________________________________________\n",
            "batch_normalization_3 (BatchNor (None, 128, 128, 128 512         separable_conv2d_2[0][0]         \n",
            "__________________________________________________________________________________________________\n",
            "activation_4 (Activation)       (None, 128, 128, 128 0           batch_normalization_3[0][0]      \n",
            "__________________________________________________________________________________________________\n",
            "separable_conv2d_3 (SeparableCo (None, 128, 128, 128 17664       activation_4[0][0]               \n",
            "__________________________________________________________________________________________________\n",
            "batch_normalization_4 (BatchNor (None, 128, 128, 128 512         separable_conv2d_3[0][0]         \n",
            "__________________________________________________________________________________________________\n",
            "max_pooling2d_1 (MaxPooling2D)  (None, 64, 64, 128)  0           batch_normalization_4[0][0]      \n",
            "__________________________________________________________________________________________________\n",
            "conv2d_2 (Conv2D)               (None, 64, 64, 128)  8320        add[0][0]                        \n",
            "__________________________________________________________________________________________________\n",
            "add_1 (Add)                     (None, 64, 64, 128)  0           max_pooling2d_1[0][0]            \n",
            "                                                                 conv2d_2[0][0]                   \n",
            "__________________________________________________________________________________________________\n",
            "activation_5 (Activation)       (None, 64, 64, 128)  0           add_1[0][0]                      \n",
            "__________________________________________________________________________________________________\n",
            "separable_conv2d_4 (SeparableCo (None, 64, 64, 256)  34176       activation_5[0][0]               \n",
            "__________________________________________________________________________________________________\n",
            "batch_normalization_5 (BatchNor (None, 64, 64, 256)  1024        separable_conv2d_4[0][0]         \n",
            "__________________________________________________________________________________________________\n",
            "activation_6 (Activation)       (None, 64, 64, 256)  0           batch_normalization_5[0][0]      \n",
            "__________________________________________________________________________________________________\n",
            "separable_conv2d_5 (SeparableCo (None, 64, 64, 256)  68096       activation_6[0][0]               \n",
            "__________________________________________________________________________________________________\n",
            "batch_normalization_6 (BatchNor (None, 64, 64, 256)  1024        separable_conv2d_5[0][0]         \n",
            "__________________________________________________________________________________________________\n",
            "max_pooling2d_2 (MaxPooling2D)  (None, 32, 32, 256)  0           batch_normalization_6[0][0]      \n",
            "__________________________________________________________________________________________________\n",
            "conv2d_3 (Conv2D)               (None, 32, 32, 256)  33024       add_1[0][0]                      \n",
            "__________________________________________________________________________________________________\n",
            "add_2 (Add)                     (None, 32, 32, 256)  0           max_pooling2d_2[0][0]            \n",
            "                                                                 conv2d_3[0][0]                   \n",
            "__________________________________________________________________________________________________\n",
            "activation_7 (Activation)       (None, 32, 32, 256)  0           add_2[0][0]                      \n",
            "__________________________________________________________________________________________________\n",
            "conv2d_transpose (Conv2DTranspo (None, 32, 32, 256)  590080      activation_7[0][0]               \n",
            "__________________________________________________________________________________________________\n",
            "batch_normalization_7 (BatchNor (None, 32, 32, 256)  1024        conv2d_transpose[0][0]           \n",
            "__________________________________________________________________________________________________\n",
            "activation_8 (Activation)       (None, 32, 32, 256)  0           batch_normalization_7[0][0]      \n",
            "__________________________________________________________________________________________________\n",
            "conv2d_transpose_1 (Conv2DTrans (None, 32, 32, 256)  590080      activation_8[0][0]               \n",
            "__________________________________________________________________________________________________\n",
            "batch_normalization_8 (BatchNor (None, 32, 32, 256)  1024        conv2d_transpose_1[0][0]         \n",
            "__________________________________________________________________________________________________\n",
            "up_sampling2d_1 (UpSampling2D)  (None, 64, 64, 256)  0           add_2[0][0]                      \n",
            "__________________________________________________________________________________________________\n",
            "up_sampling2d (UpSampling2D)    (None, 64, 64, 256)  0           batch_normalization_8[0][0]      \n",
            "__________________________________________________________________________________________________\n",
            "conv2d_4 (Conv2D)               (None, 64, 64, 256)  65792       up_sampling2d_1[0][0]            \n",
            "__________________________________________________________________________________________________\n",
            "add_3 (Add)                     (None, 64, 64, 256)  0           up_sampling2d[0][0]              \n",
            "                                                                 conv2d_4[0][0]                   \n",
            "__________________________________________________________________________________________________\n",
            "activation_9 (Activation)       (None, 64, 64, 256)  0           add_3[0][0]                      \n",
            "__________________________________________________________________________________________________\n",
            "conv2d_transpose_2 (Conv2DTrans (None, 64, 64, 128)  295040      activation_9[0][0]               \n",
            "__________________________________________________________________________________________________\n",
            "batch_normalization_9 (BatchNor (None, 64, 64, 128)  512         conv2d_transpose_2[0][0]         \n",
            "__________________________________________________________________________________________________\n",
            "activation_10 (Activation)      (None, 64, 64, 128)  0           batch_normalization_9[0][0]      \n",
            "__________________________________________________________________________________________________\n",
            "conv2d_transpose_3 (Conv2DTrans (None, 64, 64, 128)  147584      activation_10[0][0]              \n",
            "__________________________________________________________________________________________________\n",
            "batch_normalization_10 (BatchNo (None, 64, 64, 128)  512         conv2d_transpose_3[0][0]         \n",
            "__________________________________________________________________________________________________\n",
            "up_sampling2d_3 (UpSampling2D)  (None, 128, 128, 256 0           add_3[0][0]                      \n",
            "__________________________________________________________________________________________________\n",
            "up_sampling2d_2 (UpSampling2D)  (None, 128, 128, 128 0           batch_normalization_10[0][0]     \n",
            "__________________________________________________________________________________________________\n",
            "conv2d_5 (Conv2D)               (None, 128, 128, 128 32896       up_sampling2d_3[0][0]            \n",
            "__________________________________________________________________________________________________\n",
            "add_4 (Add)                     (None, 128, 128, 128 0           up_sampling2d_2[0][0]            \n",
            "                                                                 conv2d_5[0][0]                   \n",
            "__________________________________________________________________________________________________\n",
            "activation_11 (Activation)      (None, 128, 128, 128 0           add_4[0][0]                      \n",
            "__________________________________________________________________________________________________\n",
            "conv2d_transpose_4 (Conv2DTrans (None, 128, 128, 64) 73792       activation_11[0][0]              \n",
            "__________________________________________________________________________________________________\n",
            "batch_normalization_11 (BatchNo (None, 128, 128, 64) 256         conv2d_transpose_4[0][0]         \n",
            "__________________________________________________________________________________________________\n",
            "activation_12 (Activation)      (None, 128, 128, 64) 0           batch_normalization_11[0][0]     \n",
            "__________________________________________________________________________________________________\n",
            "conv2d_transpose_5 (Conv2DTrans (None, 128, 128, 64) 36928       activation_12[0][0]              \n",
            "__________________________________________________________________________________________________\n",
            "batch_normalization_12 (BatchNo (None, 128, 128, 64) 256         conv2d_transpose_5[0][0]         \n",
            "__________________________________________________________________________________________________\n",
            "up_sampling2d_5 (UpSampling2D)  (None, 256, 256, 128 0           add_4[0][0]                      \n",
            "__________________________________________________________________________________________________\n",
            "up_sampling2d_4 (UpSampling2D)  (None, 256, 256, 64) 0           batch_normalization_12[0][0]     \n",
            "__________________________________________________________________________________________________\n",
            "conv2d_6 (Conv2D)               (None, 256, 256, 64) 8256        up_sampling2d_5[0][0]            \n",
            "__________________________________________________________________________________________________\n",
            "add_5 (Add)                     (None, 256, 256, 64) 0           up_sampling2d_4[0][0]            \n",
            "                                                                 conv2d_6[0][0]                   \n",
            "__________________________________________________________________________________________________\n",
            "activation_13 (Activation)      (None, 256, 256, 64) 0           add_5[0][0]                      \n",
            "__________________________________________________________________________________________________\n",
            "conv2d_transpose_6 (Conv2DTrans (None, 256, 256, 32) 18464       activation_13[0][0]              \n",
            "__________________________________________________________________________________________________\n",
            "batch_normalization_13 (BatchNo (None, 256, 256, 32) 128         conv2d_transpose_6[0][0]         \n",
            "__________________________________________________________________________________________________\n",
            "activation_14 (Activation)      (None, 256, 256, 32) 0           batch_normalization_13[0][0]     \n",
            "__________________________________________________________________________________________________\n",
            "conv2d_transpose_7 (Conv2DTrans (None, 256, 256, 32) 9248        activation_14[0][0]              \n",
            "__________________________________________________________________________________________________\n",
            "batch_normalization_14 (BatchNo (None, 256, 256, 32) 128         conv2d_transpose_7[0][0]         \n",
            "__________________________________________________________________________________________________\n",
            "up_sampling2d_7 (UpSampling2D)  (None, 512, 512, 64) 0           add_5[0][0]                      \n",
            "__________________________________________________________________________________________________\n",
            "up_sampling2d_6 (UpSampling2D)  (None, 512, 512, 32) 0           batch_normalization_14[0][0]     \n",
            "__________________________________________________________________________________________________\n",
            "conv2d_7 (Conv2D)               (None, 512, 512, 32) 2080        up_sampling2d_7[0][0]            \n",
            "__________________________________________________________________________________________________\n",
            "add_6 (Add)                     (None, 512, 512, 32) 0           up_sampling2d_6[0][0]            \n",
            "                                                                 conv2d_7[0][0]                   \n",
            "__________________________________________________________________________________________________\n",
            "conv2d_8 (Conv2D)               (None, 512, 512, 1)  33          add_6[0][0]                      \n",
            "==================================================================================================\n",
            "Total params: 2,058,145\n",
            "Trainable params: 2,054,369\n",
            "Non-trainable params: 3,776\n",
            "__________________________________________________________________________________________________\n"
          ],
          "name": "stdout"
        }
      ]
    },
    {
      "cell_type": "code",
      "metadata": {
        "id": "ZA4R_HjNH1Bk"
      },
      "source": [
        "import random\r\n",
        "\r\n",
        "# Split our img paths into a training and a validation set\r\n",
        "val_samples = 203\r\n",
        "random.Random(1337).shuffle(input_img_paths)\r\n",
        "random.Random(1337).shuffle(target1_img_paths)\r\n",
        "train_input_img_paths = input_img_paths[:val_samples]\r\n",
        "train_target1_img_paths = target1_img_paths[:val_samples]\r\n",
        "val_input_img_paths = input_img_paths[val_samples:]\r\n",
        "val_target1_img_paths = target1_img_paths[val_samples:]\r\n",
        "\r\n",
        "train_target2_img_paths = target2_img_paths[:val_samples]\r\n",
        "val_target2_img_paths = target2_img_paths[val_samples:]\r\n",
        "\r\n",
        "\r\n",
        "train_target3_img_paths = target3_img_paths[:val_samples]\r\n",
        "val_target3_img_paths = target3_img_paths[val_samples:]\r\n",
        "\r\n",
        "# Instantiate data Sequences for each split\r\n",
        "train_gen1 = OxfordPets(\r\n",
        "    batch_size, img_size, train_input_img_paths, train_target1_img_paths\r\n",
        ")\r\n",
        "val_gen1 = OxfordPets(batch_size, img_size, val_input_img_paths, val_target1_img_paths)\r\n",
        "\r\n",
        "train_gen2 = OxfordPets(\r\n",
        "    batch_size, img_size, train_input_img_paths, train_target2_img_paths\r\n",
        ")\r\n",
        "val_gen2 = OxfordPets(batch_size, img_size, val_input_img_paths, val_target2_img_paths)\r\n",
        "\r\n",
        "train_gen3 = OxfordPets(\r\n",
        "    batch_size, img_size, train_input_img_paths, train_target3_img_paths\r\n",
        ")\r\n",
        "val_gen3 = OxfordPets(batch_size, img_size, val_input_img_paths, val_target3_img_paths)"
      ],
      "execution_count": 9,
      "outputs": []
    },
    {
      "cell_type": "markdown",
      "metadata": {
        "id": "nfZ_5Uo8OQg-"
      },
      "source": [
        "訓練model-1用來找出mn神經"
      ]
    },
    {
      "cell_type": "code",
      "metadata": {
        "id": "3CMZjuMTIAAP",
        "colab": {
          "base_uri": "https://localhost:8080/"
        },
        "outputId": "02467f3a-100d-4f34-c0ac-043bae07c155"
      },
      "source": [
        "\r\n",
        "# Configure the model for training.\r\n",
        "# We use the \"sparse\" version of categorical_crossentropy\r\n",
        "# because our target data is integers.\r\n",
        "#model.compile(optimizer=\"rmsprop\", loss=\"sparse_categorical_crossentropy\") #多類\r\n",
        "model.compile(optimizer=\"rmsprop\", loss=\"binary_crossentropy\") #二元\r\n",
        "callbacks = [\r\n",
        "    keras.callbacks.ModelCheckpoint(\"MN_segmentation.h5\", save_best_only=True)\r\n",
        "]\r\n",
        "\r\n",
        "# Train the model, doing validation at the end of each epoch.\r\n",
        "epochs = 100\r\n",
        "history=model.fit(train_gen1, epochs=epochs, validation_data=val_gen1, callbacks=callbacks)\r\n"
      ],
      "execution_count": null,
      "outputs": [
        {
          "output_type": "stream",
          "text": [
            "Epoch 1/100\n",
            "50/50 [==============================] - 25s 275ms/step - loss: 0.1905 - val_loss: 0.0113\n",
            "Epoch 2/100\n",
            "50/50 [==============================] - 13s 265ms/step - loss: 0.0250 - val_loss: 0.0098\n",
            "Epoch 3/100\n",
            "40/50 [=======================>......] - ETA: 2s - loss: 0.0138"
          ],
          "name": "stdout"
        }
      ]
    },
    {
      "cell_type": "markdown",
      "metadata": {
        "id": "y6P5fx5zOYfv"
      },
      "source": [
        "訓練model-2找出ct"
      ]
    },
    {
      "cell_type": "code",
      "metadata": {
        "id": "Kc2zoj43ODIW"
      },
      "source": [
        "# Configure the model for training.\r\n",
        "# We use the \"sparse\" version of categorical_crossentropy\r\n",
        "# because our target data is integers.\r\n",
        "#model.compile(optimizer=\"rmsprop\", loss=\"sparse_categorical_crossentropy\") #多類\r\n",
        "#model.compile(optimizer=\"rmsprop\", loss=\"binary_crossentropy\") #二元\r\n",
        "#callbacks = [\r\n",
        "    #keras.callbacks.ModelCheckpoint(\"CT_segmentation.h5\", save_best_only=True)\r\n",
        "#]\r\n",
        "\r\n",
        "# Train the model, doing validation at the end of each epoch.\r\n",
        "#epochs = 100\r\n",
        "#history2=model.fit(train_gen2, epochs=epochs, validation_data=val_gen2, callbacks=callbacks)"
      ],
      "execution_count": null,
      "outputs": []
    },
    {
      "cell_type": "code",
      "metadata": {
        "id": "abj22mI6ODqU"
      },
      "source": [
        "# Configure the model for training.\r\n",
        "# We use the \"sparse\" version of categorical_crossentropy\r\n",
        "# because our target data is integers.\r\n",
        "#model.compile(optimizer=\"rmsprop\", loss=\"sparse_categorical_crossentropy\") #多類\r\n",
        "#model.compile(optimizer=\"rmsprop\", loss=\"binary_crossentropy\") #二元\r\n",
        "#callbacks = [\r\n",
        "    #keras.callbacks.ModelCheckpoint(\"FT_segmentation.h5\", save_best_only=True)\r\n",
        "#]\r\n",
        "\r\n",
        "# Train the model, doing validation at the end of each epoch.\r\n",
        "#epochs = 100\r\n",
        "#history3=model.fit(train_gen3, epochs=epochs, validation_data=val_gen3, callbacks=callbacks)"
      ],
      "execution_count": null,
      "outputs": []
    },
    {
      "cell_type": "code",
      "metadata": {
        "id": "gwK5WPjcTCW9"
      },
      "source": [
        "import matplotlib.pyplot as plt\r\n",
        "loss = history3.history['loss']\r\n",
        "val_loss = history3.history['val_loss']\r\n",
        "epochs=range(1,len(loss)+1)\r\n",
        "\r\n",
        "plt.plot(epochs,loss,'bo',label='Training loss')\r\n",
        "plt.plot(epochs,val_loss,'b',label='Validation loss')\r\n",
        "plt.title('result')\r\n",
        "plt.xlabel('epochs')\r\n",
        "plt.ylabel('loss')\r\n",
        "plt.legend()\r\n",
        "plt.show()"
      ],
      "execution_count": null,
      "outputs": []
    },
    {
      "cell_type": "markdown",
      "metadata": {
        "id": "izRwMXXZQF59"
      },
      "source": [
        "# 新增區段"
      ]
    },
    {
      "cell_type": "markdown",
      "metadata": {
        "id": "EBWN7nVmNjcA"
      },
      "source": [
        "製作predict data的batch\r\n"
      ]
    },
    {
      "cell_type": "code",
      "metadata": {
        "id": "hnkeS0sYOnnP"
      },
      "source": [
        "class test_predict2(keras.utils.Sequence):\r\n",
        "    \"\"\"Helper to iterate over the data (as Numpy arrays).\"\"\"\r\n",
        " \r\n",
        "    def __init__(self, batch_size, img_size, input_img_paths, target_img_paths):\r\n",
        "        self.batch_size = batch_size\r\n",
        "        self.img_size = img_size\r\n",
        "        self.input_img_paths = input_img_paths\r\n",
        "        self.target_img_paths = target_img_paths\r\n",
        " \r\n",
        "    def __len__(self):\r\n",
        "        return len(self.target_img_paths) // self.batch_size\r\n",
        " \r\n",
        "    def __getitem__(self, idx):\r\n",
        "        \"\"\"Returns tuple (input, target) correspond to batch #idx.\"\"\"\r\n",
        "        i = idx * self.batch_size\r\n",
        "        batch_input_img_paths = self.input_img_paths\r\n",
        "        batch_target_img_paths = self.target_img_paths\r\n",
        "        x = np.zeros((self.batch_size,) + self.img_size + (3,), dtype=\"float32\")\r\n",
        "        \r\n",
        "        for j, path in enumerate(batch_input_img_paths):\r\n",
        "            img = load_img(path, target_size=self.img_size)\r\n",
        "            x[j] = img\r\n",
        "        y = np.zeros((self.batch_size,) + self.img_size + (1,), dtype=\"float32\")\r\n",
        "        for j, path in enumerate(batch_target_img_paths):\r\n",
        "            img = load_img(path, target_size=self.img_size, color_mode=\"grayscale\")\r\n",
        "            y[j] = np.expand_dims(img, 2)\r\n",
        "            # Ground truth labels are 1, 2, 3. Subtract one to make them 0, 1, 2:\r\n",
        "        y=(y/255)\r\n",
        "        \r\n",
        "        return x, y"
      ],
      "execution_count": null,
      "outputs": []
    },
    {
      "cell_type": "code",
      "metadata": {
        "id": "0xmPizseYHlb"
      },
      "source": [
        "# Generate predictions for all images in the validation set\r\n",
        "\r\n",
        "#val_gen = OxfordPets(batch_size, img_size, val_input_img_paths, val_target_img_paths)\r\n",
        "#val_preds = model.predict(val_gen)\r\n",
        "\r\n",
        "test1= test_predict2(1,img_size,['image_final_project/0/T1/0.jpg'],['image_final_project/0/MN/0.jpg'])\r\n",
        "\r\n",
        "\r\n",
        "#model1 = keras.models.load_model('MN_segmentation.h5')\r\n",
        "pred1 = model.predict(test1)\r\n",
        "\r\n",
        "#model.save('CT_segmentation.h5')\r\n",
        "#model2 = keras.models.load_model('CT_segmentation.h5')\r\n",
        "#pred2 = model2.predict(test1)\r\n",
        "#model.save('FT_segmentation.h5')\r\n",
        "#model3 = keras.models.load_model('FT_segmentation.h5')\r\n",
        "#pred3 = model3.predict(test1)\r\n",
        "\r\n",
        "\r\n",
        "def return_mask(pred):\r\n",
        "    \"\"\"Quick utility to display a model's prediction.\"\"\"\r\n",
        "    #mask = np.argmax(val_preds[i], axis=-1)\r\n",
        "    mask = (pred>0.5).astype('int')*255\r\n",
        "    mask=mask.squeeze()\r\n",
        "    mask = np.expand_dims(mask, axis=-1)\r\n",
        "    \r\n",
        "    img = PIL.ImageOps.autocontrast(keras.preprocessing.image.array_to_img(mask))\r\n",
        "    return img\r\n",
        "\r\n",
        "\r\n",
        "# Display results for validation image #10\r\n",
        "#i = 3\r\n",
        "#print(val_input_img_paths)\r\n",
        "# Display input image\r\n",
        "#display(Image(filename=val_input_img_paths[i]))\r\n",
        "\r\n",
        "# Display ground-truth target mask\r\n",
        "#img = PIL.ImageOps.autocontrast(load_img(val_target_img_paths[i]))\r\n",
        "#print(val_target_img_paths[i])\r\n",
        "#display(img)\r\n",
        "\r\n",
        "# Display mask predicted by our model\r\n",
        "display(return_mask(pred1))  # Note that the model only sees inputs at 150x150.\r\n",
        "#display(return_mask(pred2)) \r\n",
        "#display(return_mask(pred3)) \r\n"
      ],
      "execution_count": null,
      "outputs": []
    },
    {
      "cell_type": "code",
      "metadata": {
        "id": "eB9ObF3SE5Sf"
      },
      "source": [
        "model.save('mn.h5')"
      ],
      "execution_count": null,
      "outputs": []
    },
    {
      "cell_type": "markdown",
      "metadata": {
        "id": "hpbQstetN31m"
      },
      "source": [
        "將畫出來的mask描出邊界\r\n"
      ]
    },
    {
      "cell_type": "code",
      "metadata": {
        "id": "HuXubIbSfxgl"
      },
      "source": [
        ""
      ],
      "execution_count": null,
      "outputs": []
    },
    {
      "cell_type": "code",
      "metadata": {
        "id": "TtciPyeTyd65"
      },
      "source": [
        "from google.colab.patches import cv2_imshow\r\n",
        "import cv2\r\n",
        "label1=return_mask(pred1)\r\n",
        "label1.save('test1.jpg')\r\n",
        "label2=return_mask(pred2)\r\n",
        "label2.save('test2.jpg')\r\n",
        "label3=return_mask(pred3)\r\n",
        "label3.save('test3.jpg')\r\n",
        "timage= cv2.imread('image_final_project/0/T1/0.jpg', cv2.IMREAD_GRAYSCALE) #background\r\n",
        "timage=cv2.cvtColor(timage, cv2.COLOR_GRAY2BGR)\r\n",
        "for i in range(3):\r\n",
        "  file_Name='test'+str(i+1)+'.jpg'\r\n",
        "  image = cv2.imread(file_Name)\r\n",
        "  gray = cv2.cvtColor(image, cv2.COLOR_BGR2GRAY)\r\n",
        "  blurred = cv2.GaussianBlur(gray, (11, 11), 0)\r\n",
        "  canny = cv2.Canny(blurred, 30, 150)\r\n",
        "  contours, hierarchy= cv2.findContours(canny.copy(),cv2.RETR_EXTERNAL,cv2.CHAIN_APPROX_SIMPLE)\r\n",
        "  if i==0 :\r\n",
        "    cv2.drawContours(timage, contours, -1, (255,0,0), 2)\r\n",
        "  elif i==1:\r\n",
        "    cv2.drawContours(timage, contours, -1, (0,255,0), 2)\r\n",
        "  else:\r\n",
        "    cv2.drawContours(timage, contours, -1, (0,0,255), 2)\r\n",
        "  cv2_imshow(image)\r\n",
        "  #timage=cv2.add(timage,image)\r\n",
        "cv2_imshow(timage)\r\n",
        "\r\n"
      ],
      "execution_count": null,
      "outputs": []
    },
    {
      "cell_type": "code",
      "metadata": {
        "id": "LSJ7jAtvGHRF"
      },
      "source": [
        ""
      ],
      "execution_count": null,
      "outputs": []
    }
  ]
}